{
  "nbformat": 4,
  "nbformat_minor": 0,
  "metadata": {
    "colab": {
      "provenance": [],
      "collapsed_sections": [],
      "authorship_tag": "ABX9TyNNwgVnSLK6kLHM5oLk5YZ/",
      "include_colab_link": true
    },
    "kernelspec": {
      "name": "python3",
      "display_name": "Python 3"
    },
    "language_info": {
      "name": "python"
    }
  },
  "cells": [
    {
      "cell_type": "markdown",
      "metadata": {
        "id": "view-in-github",
        "colab_type": "text"
      },
      "source": [
        "<a href=\"https://colab.research.google.com/github/zakizul2000/Webscraping/blob/main/SUSS_applied_project_2022.ipynb\" target=\"_parent\"><img src=\"https://colab.research.google.com/assets/colab-badge.svg\" alt=\"Open In Colab\"/></a>"
      ]
    },
    {
      "cell_type": "code",
      "source": [
        "!pip install rake-nltk -q"
      ],
      "metadata": {
        "id": "TIeQQzOt971A"
      },
      "execution_count": null,
      "outputs": []
    },
    {
      "cell_type": "code",
      "execution_count": null,
      "metadata": {
        "id": "O83oODDQ7KPH"
      },
      "outputs": [],
      "source": [
        "#import all packages and libraries\n",
        "import nltk\n",
        "import pandas as pd\n",
        "import numpy as np\n",
        "from nltk.tokenize import sent_tokenize, word_tokenize\n",
        "from nltk.tokenize import RegexpTokenizer\n",
        "from nltk.corpus import stopwords\n",
        "from nltk.stem.snowball import SnowballStemmer\n",
        "from nltk.tokenize.treebank import TreebankWordDetokenizer\n",
        "from sklearn.model_selection import train_test_split\n",
        "from sklearn.feature_extraction.text import TfidfVectorizer\n",
        "from sklearn.metrics import accuracy_score, roc_auc_score\n",
        "from rake_nltk import Rake\n",
        "\n",
        "#download NLTK\n",
        "nltk.download('all')"
      ]
    },
    {
      "cell_type": "code",
      "source": [
        "#import algorithm classes\n",
        "from sklearn.naive_bayes import MultinomialNB\n",
        "from sklearn.linear_model import LogisticRegression\n",
        "from sklearn.neighbors import KNeighborsClassifier"
      ],
      "metadata": {
        "id": "EwSUmmB-G9cV"
      },
      "execution_count": null,
      "outputs": []
    },
    {
      "cell_type": "code",
      "source": [
        "#connect to Google Drive\n",
        "from google.colab import drive\n",
        "drive.mount('/content/drive/')"
      ],
      "metadata": {
        "colab": {
          "base_uri": "https://localhost:8080/"
        },
        "id": "9b2JJJOI7SMB",
        "outputId": "917064cd-2f54-4521-fc55-776613bca4fa"
      },
      "execution_count": null,
      "outputs": [
        {
          "output_type": "stream",
          "name": "stdout",
          "text": [
            "Mounted at /content/drive/\n"
          ]
        }
      ]
    },
    {
      "cell_type": "code",
      "source": [
        "#read Lush Reviews excel data and save into dataframes\n",
        "new = pd.read_excel('/content/drive/My Drive/Colab Notebooks/new2-reviews.xlsx') #973 rows\n",
        "coco_rice = pd.read_excel('/content/drive/My Drive/Colab Notebooks/cocoricecake-reviews.xlsx') #126 rows\n",
        "soak_float = pd.read_excel('/content/drive/My Drive/Colab Notebooks/soakfloat-reviews.xlsx') #370 rows\n",
        "jason_argan = pd.read_excel('/content/drive/My Drive/Colab Notebooks/jason-reviews.xlsx') #735 rows\n",
        "\n",
        "#remove positive reviews from coco-rice, soak_float, jason_argon dataframes\n",
        "coco_rice = coco_rice[(coco_rice['rating'] < 4)]\n",
        "soak_float = soak_float[(soak_float['rating'] < 4)]\n",
        "jason_argan = jason_argan[(jason_argan['rating'] < 4)]\n",
        "\n",
        "#combine all dataframes\n",
        "frames = [new, coco_rice, soak_float, jason_argan]\n",
        "pre_df = pd.concat(frames, ignore_index=True, sort=False)\n",
        "\n",
        "#print number of rows for each rating\n",
        "#to determine how many rows to remove\n",
        "#to create a balanced dataframe of positive and negative reviews\n",
        "pre_df['rating'].value_counts()"
      ],
      "metadata": {
        "colab": {
          "base_uri": "https://localhost:8080/"
        },
        "id": "1f-BXk-K7d8u",
        "outputId": "c02bbf6a-17ef-42f2-a1fd-25e08e8989a8"
      },
      "execution_count": null,
      "outputs": [
        {
          "output_type": "execute_result",
          "data": {
            "text/plain": [
              "5    627\n",
              "4    226\n",
              "3    147\n",
              "2    145\n",
              "1     95\n",
              "Name: rating, dtype: int64"
            ]
          },
          "metadata": {},
          "execution_count": 5
        }
      ]
    },
    {
      "cell_type": "code",
      "source": [
        "#remove rows of positive reviews to acheive balanced dataframe\n",
        "#5-rating: remove 434 rows\n",
        "#4-rating: remove 32 rows\n",
        "n_5 = 434\n",
        "pre_df = pre_df.drop(pre_df[pre_df['rating'].eq(5)].sample(n_5).index)\n",
        "n_4 = 32\n",
        "df = pre_df.drop(pre_df[pre_df['rating'].eq(4)].sample(n_4).index)\n",
        "\n",
        "#print number of rows for each rating\n",
        "df['rating'].value_counts()"
      ],
      "metadata": {
        "colab": {
          "base_uri": "https://localhost:8080/"
        },
        "id": "k4InM465_S-k",
        "outputId": "29e98dea-455c-4a4c-9217-155d9bc8f744"
      },
      "execution_count": null,
      "outputs": [
        {
          "output_type": "execute_result",
          "data": {
            "text/plain": [
              "4    194\n",
              "5    193\n",
              "3    147\n",
              "2    145\n",
              "1     95\n",
              "Name: rating, dtype: int64"
            ]
          },
          "metadata": {},
          "execution_count": 6
        }
      ]
    },
    {
      "cell_type": "code",
      "source": [
        "#rake-nltk analysis to find keywords\n",
        "#collect positive reviews\n",
        "positive = df[(df['rating'] > 4)]\n",
        "positive = positive.drop(columns=['rating','title'])\n",
        "positive = positive.reset_index()\n",
        "positive = positive.drop(columns=['index'])\n",
        "#collect negative reviews\n",
        "negative = df[(df['rating'] < 3)]\n",
        "negative = negative.drop(columns=['rating','title'])\n",
        "negative = negative.reset_index()\n",
        "negative = negative.drop(columns=['index'])\n",
        "\n",
        "#concatenate into a single text body\n",
        "#positive = positive['body'].str.cat(sep='')\n",
        "#negative = negative['body'].str.cat(sep=', ')"
      ],
      "metadata": {
        "id": "zY10bpWAsg9O"
      },
      "execution_count": null,
      "outputs": []
    },
    {
      "cell_type": "code",
      "source": [
        "print(positive)"
      ],
      "metadata": {
        "colab": {
          "base_uri": "https://localhost:8080/"
        },
        "id": "I1jFnOoZAt5b",
        "outputId": "39b729fd-8587-41a0-90fd-f88e5b3ffd51"
      },
      "execution_count": null,
      "outputs": [
        {
          "output_type": "stream",
          "name": "stdout",
          "text": [
            "                                                  body\n",
            "0    I have been using this shampoo bar since the b...\n",
            "1    been using this for years and my hair grows at...\n",
            "2    I'm young but have thinning hair from birth co...\n",
            "3    I love this product but I use it as a body soa...\n",
            "4    After a week of using New shampoo bar, I got m...\n",
            "..                                                 ...\n",
            "188  It lathers really quickly so you don't have to...\n",
            "189  I LOVE THIS SHAMPOO. let me say that one more ...\n",
            "190  I love this solid shampoo, it cleans in a snap...\n",
            "191  This is my first shampoo bar and I loved it.\\n...\n",
            "192  I got this shampoo yesterday and I love it soo...\n",
            "\n",
            "[193 rows x 1 columns]\n"
          ]
        }
      ]
    },
    {
      "cell_type": "code",
      "source": [
        "for i in positive['body']:\n",
        "  r = Rake()\n",
        "  r.extract_keywords_from_text(i)\n",
        "  print(r.get_ranked_phrases_with_scores())\n",
        "  print('\\n')"
      ],
      "metadata": {
        "id": "Mc_htZYQEo1N"
      },
      "execution_count": null,
      "outputs": []
    },
    {
      "cell_type": "code",
      "source": [
        "for i in negative['body']:\n",
        "  r = Rake()\n",
        "  r.extract_keywords_from_text(i)\n",
        "  print(r.get_ranked_phrases_with_scores())\n",
        "  print('\\n')"
      ],
      "metadata": {
        "id": "ZBuXx69f-RXJ"
      },
      "execution_count": null,
      "outputs": []
    },
    {
      "cell_type": "code",
      "source": [
        "#data preprocessing\n",
        "#apply NLP text cleaning methods\n",
        "\n",
        "#remove stopwords\n",
        "stop = stopwords.words('english')\n",
        "df['without_stopwords'] = df['body'].apply(lambda x: ' '.join([word for word in x.split() if word not in (stop)]))\n",
        "\n",
        "#word tokenize and remove all non-alphabetic characters\n",
        "tokenizer = RegexpTokenizer('\\w+')\n",
        "df['tokenized_sents'] = df.apply(lambda row: tokenizer.tokenize(row['without_stopwords']), axis=1)\n",
        "\n",
        "#detokonize for TF-IDF feature extraction\n",
        "df['detokenized'] = df.apply(lambda row: TreebankWordDetokenizer().detokenize(row['tokenized_sents']), axis=1)\n",
        "\n",
        "#stem words\n",
        "stemmer = SnowballStemmer('english')\n",
        "df['review'] = df.apply(lambda row: stemmer.stem(row['detokenized']), axis=1)\n",
        "\n",
        "#create column for sentiment 1-positive 0-negative\n",
        "conditions = [\n",
        "    (df['rating'] < 3),\n",
        "    (df['rating'] > 3)\n",
        "]\n",
        "sentiment = [0, 1]\n",
        "df['sentiment'] = np.select(conditions, sentiment, default=0)\n",
        "\n",
        "#delete unnecessary columns\n",
        "df1 = df.drop(columns=['title','rating','body','without_stopwords','tokenized_sents','detokenized'])\n",
        "print(df1)\n",
        "\n",
        "#print number of rows of each sentiment value\n",
        "#dataframe is balanced\n",
        "df['sentiment'].value_counts()"
      ],
      "metadata": {
        "id": "5fX2HMTeAaNP",
        "colab": {
          "base_uri": "https://localhost:8080/"
        },
        "outputId": "d58162b3-3510-40ff-99e9-31f7126fe5ee"
      },
      "execution_count": null,
      "outputs": [
        {
          "output_type": "stream",
          "name": "stdout",
          "text": [
            "                                                 review  sentiment\n",
            "1     i using new shampoo bar year i oily hair tried...          0\n",
            "2     i using product years i would want use anythin...          1\n",
            "6     i serious hair loss problem since i used produ...          1\n",
            "8     i know expect i ve never tried shampoo bar i d...          1\n",
            "10    if hesitant trying shampoo bars love good lath...          1\n",
            "...                                                 ...        ...\n",
            "1235  this second shampoo bar i gotten lush i never ...          0\n",
            "1236  i wanted love bad it pretty gentle hair smelle...          0\n",
            "1237  this shampoo really helps hair thicken pretty ...          0\n",
            "1238  this first shampoo bar i impressed it crumbled...          0\n",
            "1239  i love rose scents developed lush always fresh...          0\n",
            "\n",
            "[774 rows x 2 columns]\n"
          ]
        },
        {
          "output_type": "execute_result",
          "data": {
            "text/plain": [
              "0    387\n",
              "1    387\n",
              "Name: sentiment, dtype: int64"
            ]
          },
          "metadata": {},
          "execution_count": 7
        }
      ]
    },
    {
      "cell_type": "code",
      "source": [
        "#reset index\n",
        "df1 = df1.reset_index()\n",
        "print(df1.index)"
      ],
      "metadata": {
        "colab": {
          "base_uri": "https://localhost:8080/"
        },
        "id": "pBWEjbbmGCov",
        "outputId": "d7a07069-3885-4143-f4ea-bd17f4ccbf77"
      },
      "execution_count": null,
      "outputs": [
        {
          "output_type": "stream",
          "name": "stdout",
          "text": [
            "RangeIndex(start=0, stop=774, step=1)\n"
          ]
        }
      ]
    },
    {
      "cell_type": "code",
      "source": [
        "#step 1 in finding optimal n_neighbors value\n",
        "#split dataset into train and test set\n",
        "X_train, X_test, y_train, y_test = train_test_split(df['review'], df['sentiment'].values , test_size=0.20, random_state=0)\n",
        "# Show the size of our datasets\n",
        "print('X Train Size:',X_train.shape)\n",
        "print('X Test Size:',X_test.shape)"
      ],
      "metadata": {
        "colab": {
          "base_uri": "https://localhost:8080/"
        },
        "id": "Swmb-i8BLpeP",
        "outputId": "54ae9e7a-d3e5-4adf-bb3c-4f6b63c11ed5"
      },
      "execution_count": null,
      "outputs": [
        {
          "output_type": "stream",
          "name": "stdout",
          "text": [
            "X Train Size: (619,)\n",
            "X Test Size: (155,)\n"
          ]
        }
      ]
    },
    {
      "cell_type": "code",
      "source": [
        "#step 2 in finding optimal n_neighbors value\n",
        "#feature extraction using TF-IDF\n",
        "tfidf = TfidfVectorizer(decode_error='ignore', lowercase = True, min_df=2)\n",
        "# Numericalize the train dataset\n",
        "X_train = tfidf.fit_transform(X_train.values.astype('U'))\n",
        "# Numericalize the test dataset\n",
        "X_test = tfidf.transform(X_test.values.astype('U'))"
      ],
      "metadata": {
        "id": "qDUf0qCuMICC"
      },
      "execution_count": null,
      "outputs": []
    },
    {
      "cell_type": "code",
      "source": [
        "print(X_train.shape)\n",
        "print(X_test.shape)"
      ],
      "metadata": {
        "colab": {
          "base_uri": "https://localhost:8080/"
        },
        "id": "Vw1ajdThjM_z",
        "outputId": "d416083f-b382-41b4-a88c-50d4e4fa810c"
      },
      "execution_count": null,
      "outputs": [
        {
          "output_type": "stream",
          "name": "stdout",
          "text": [
            "(619, 1884)\n",
            "(155, 1884)\n"
          ]
        }
      ]
    },
    {
      "cell_type": "code",
      "source": [
        "import matplotlib.pyplot as plt\n",
        "from sklearn import metrics\n",
        "#find optimal value of n_neighbors\n",
        "error_rate = []\n",
        "acc = []\n",
        "for i in range(1,50):\n",
        "  knn = KNeighborsClassifier(n_neighbors=i)\n",
        "  knn.fit(X_train, y_train)\n",
        "  pred_i = knn.predict(X_test)\n",
        "  error_rate.append(np.mean(pred_i != y_test))\n",
        "  acc.append(metrics.accuracy_score(y_test, pred_i))\n",
        "\n",
        "plt.figure(figsize=(10,6))\n",
        "#plt.plot(range(1,50),error_rate,color='blue', linestyle='dashed', \n",
        " #        marker='o',markerfacecolor='red', markersize=10)\n",
        "plt.plot(range(1,50),acc,color = 'blue',linestyle='dashed', \n",
        "         marker='o',markerfacecolor='red', markersize=10)\n",
        "plt.title('Accuracy vs. K Value')\n",
        "plt.xlabel('K')\n",
        "plt.ylabel('Accuracy')\n",
        "#print(\"Minimum error:-\",min(error_rate),\"at K =\",error_rate.index(min(error_rate)))\n",
        "print(\"Maximum accuracy:-\",max(acc),\"at K =\",acc.index(max(acc)))"
      ],
      "metadata": {
        "colab": {
          "base_uri": "https://localhost:8080/",
          "height": 422
        },
        "id": "3uHLY6Umd81T",
        "outputId": "18a325ca-3539-4070-cd58-197c4485b5de"
      },
      "execution_count": null,
      "outputs": [
        {
          "output_type": "stream",
          "name": "stdout",
          "text": [
            "Maximum accuracy:- 0.7935483870967742 at K = 19\n"
          ]
        },
        {
          "output_type": "display_data",
          "data": {
            "text/plain": [
              "<Figure size 720x432 with 1 Axes>"
            ],
            "image/png": "[encoded data removed]"
          },
          "metadata": {
            "needs_background": "light"
          }
        }
      ]
    },
    {
      "cell_type": "code",
      "source": [
        "#k-fold cross validation\n",
        "#from sklearn.model_selection import StratifiedKFold\n",
        "from sklearn.model_selection import KFold\n",
        "#skf = StratifiedKFold(n_splits=10, shuffle=True, random_state=529)\n",
        "skf = KFold(n_splits=10, shuffle=True, random_state=529)"
      ],
      "metadata": {
        "id": "Azbfu0l1zyF2"
      },
      "execution_count": null,
      "outputs": []
    },
    {
      "cell_type": "code",
      "source": [
        "fold = 0\n",
        "aucs = []\n",
        "accs = []\n",
        "for train_index, val_index in skf.split(df['review'], df['sentiment'], groups = None):\n",
        "  #training set\n",
        "  X_tr = df1['review'].loc[train_index]\n",
        "  y_tr = df1['sentiment'].loc[train_index]\n",
        "  #validation set\n",
        "  X_val = df1['review'].loc[val_index]\n",
        "  y_val = df1['sentiment'].loc[val_index]\n",
        "  \n",
        "  #perform TF-IDF\n",
        "  tfidf = TfidfVectorizer(decode_error='ignore', lowercase = True, min_df=2)\n",
        "  X_train = tfidf.fit_transform(X_tr.values.astype('U'))\n",
        "  X_validation = tfidf.transform(X_val.values.astype('U'))\n",
        "\n",
        "  #fit model on training set\n",
        "  #best model: LR with hyperparameter tuning 'C': 10, 'penalty': 'l2', 'solver': 'newton-cg'\n",
        "  model = LogisticRegression()\n",
        "  model.fit(X_train, y_tr)\n",
        "  pred = model.predict(X_validation)\n",
        "  pred_prob = model.predict_proba(X_validation)[:, 1]\n",
        "  #get scores\n",
        "  acc_score = accuracy_score(y_val, pred)\n",
        "  auc_score = roc_auc_score(y_val, pred_prob)\n",
        "  #print scores\n",
        "  print(f\"===== Fold {fold} =====\")\n",
        "  print(\n",
        "      f\"Accuracy on validation set: {acc_score:0.4f} and AUC: {auc_score:0.4f}\"\n",
        "  )\n",
        "  fold += 1\n",
        "  aucs.append(auc_score)\n",
        "  accs.append(acc_score)"
      ],
      "metadata": {
        "colab": {
          "base_uri": "https://localhost:8080/"
        },
        "id": "Ki11klNqj1bA",
        "outputId": "963ded4a-29b6-4feb-ac43-98e25fbaa783"
      },
      "execution_count": null,
      "outputs": [
        {
          "output_type": "stream",
          "name": "stdout",
          "text": [
            "===== Fold 0 =====\n",
            "Accuracy on validation set: 0.8462 and AUC: 0.8882\n",
            "===== Fold 1 =====\n",
            "Accuracy on validation set: 0.7949 and AUC: 0.8997\n",
            "===== Fold 2 =====\n",
            "Accuracy on validation set: 0.8077 and AUC: 0.9192\n",
            "===== Fold 3 =====\n",
            "Accuracy on validation set: 0.9103 and AUC: 0.9309\n",
            "===== Fold 4 =====\n",
            "Accuracy on validation set: 0.8052 and AUC: 0.9068\n",
            "===== Fold 5 =====\n",
            "Accuracy on validation set: 0.8312 and AUC: 0.9291\n",
            "===== Fold 6 =====\n",
            "Accuracy on validation set: 0.7792 and AUC: 0.9109\n",
            "===== Fold 7 =====\n",
            "Accuracy on validation set: 0.8571 and AUC: 0.9460\n",
            "===== Fold 8 =====\n",
            "Accuracy on validation set: 0.8312 and AUC: 0.9048\n",
            "===== Fold 9 =====\n",
            "Accuracy on validation set: 0.8052 and AUC: 0.8831\n"
          ]
        }
      ]
    },
    {
      "cell_type": "code",
      "source": [
        "oof_auc = np.mean(aucs)\n",
        "print(f\"Out of fold AUC score: {oof_auc:0.4f}\")\n",
        "\n",
        "oof_acc = np.mean(accs)\n",
        "print(f\"Out of fold ACC score: {oof_acc:0.4f}\")"
      ],
      "metadata": {
        "colab": {
          "base_uri": "https://localhost:8080/"
        },
        "id": "1wLuHFQDKg4Y",
        "outputId": "ec23bb65-4206-418b-aef2-4274d56c3078"
      },
      "execution_count": null,
      "outputs": [
        {
          "output_type": "stream",
          "name": "stdout",
          "text": [
            "Out of fold AUC score: 0.9119\n",
            "Out of fold ACC score: 0.8268\n"
          ]
        }
      ]
    },
    {
      "cell_type": "code",
      "source": [
        "#perform hyperparameter tuning to improve model accuracy\n",
        "from sklearn.model_selection import RepeatedStratifiedKFold\n",
        "from sklearn.model_selection import GridSearchCV\n",
        "#define dataset \n",
        "tfidf = TfidfVectorizer(decode_error='ignore', lowercase = True, min_df=2)\n",
        "X = tfidf.fit_transform(df['review'])\n",
        "y = df['sentiment'] #target\n",
        "#define models and parameters\n",
        "LR_model = LogisticRegression()\n",
        "solvers = ['newton-cg', 'lbfgs', 'liblinear']\n",
        "penalty = ['l2']\n",
        "c_values = [100, 10, 1.0, 0.1, 0.01]\n",
        "#define grid search\n",
        "grid = dict(solver=solvers, penalty=penalty, C=c_values)\n",
        "cv = RepeatedStratifiedKFold(n_splits=10, n_repeats=3, random_state=1)\n",
        "grid_search = GridSearchCV(estimator=LR_model, param_grid=grid, n_jobs=-1, cv=cv, scoring='accuracy', error_score=0)\n",
        "grid_result = grid_search.fit(X,y)\n",
        "#summarize results\n",
        "print(\"Best: %f using %s\" % (grid_result.best_score_, grid_result.best_params_))\n",
        "means = grid_result.cv_results_['mean_test_score']\n",
        "stds = grid_result.cv_results_['std_test_score']\n",
        "params = grid_result.cv_results_['params']\n",
        "for mean, stdev, param in zip(means, stds, params):\n",
        "    print(\"%f (%f) with: %r\" % (mean, stdev, param))"
      ],
      "metadata": {
        "colab": {
          "base_uri": "https://localhost:8080/"
        },
        "id": "Wr7-isxGU_eB",
        "outputId": "0bd7cf7b-2cba-4fb7-d152-68e395cfa23b"
      },
      "execution_count": null,
      "outputs": [
        {
          "output_type": "stream",
          "name": "stdout",
          "text": [
            "Best: 0.836425 using {'C': 1.0, 'penalty': 'l2', 'solver': 'liblinear'}\n",
            "0.827744 (0.031155) with: {'C': 100, 'penalty': 'l2', 'solver': 'newton-cg'}\n",
            "0.827744 (0.031155) with: {'C': 100, 'penalty': 'l2', 'solver': 'lbfgs'}\n",
            "0.827744 (0.031155) with: {'C': 100, 'penalty': 'l2', 'solver': 'liblinear'}\n",
            "0.832501 (0.039008) with: {'C': 10, 'penalty': 'l2', 'solver': 'newton-cg'}\n",
            "0.832501 (0.039008) with: {'C': 10, 'penalty': 'l2', 'solver': 'lbfgs'}\n",
            "0.832928 (0.037511) with: {'C': 10, 'penalty': 'l2', 'solver': 'liblinear'}\n",
            "0.835997 (0.045519) with: {'C': 1.0, 'penalty': 'l2', 'solver': 'newton-cg'}\n",
            "0.835997 (0.045519) with: {'C': 1.0, 'penalty': 'l2', 'solver': 'lbfgs'}\n",
            "0.836425 (0.045792) with: {'C': 1.0, 'penalty': 'l2', 'solver': 'liblinear'}\n",
            "0.825630 (0.045302) with: {'C': 0.1, 'penalty': 'l2', 'solver': 'newton-cg'}\n",
            "0.825630 (0.045302) with: {'C': 0.1, 'penalty': 'l2', 'solver': 'lbfgs'}\n",
            "0.824797 (0.047351) with: {'C': 0.1, 'penalty': 'l2', 'solver': 'liblinear'}\n",
            "0.815673 (0.038874) with: {'C': 0.01, 'penalty': 'l2', 'solver': 'newton-cg'}\n",
            "0.815673 (0.038874) with: {'C': 0.01, 'penalty': 'l2', 'solver': 'lbfgs'}\n",
            "0.803635 (0.047513) with: {'C': 0.01, 'penalty': 'l2', 'solver': 'liblinear'}\n"
          ]
        }
      ]
    }
  ]
}